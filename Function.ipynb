{
 "cells": [
  {
   "cell_type": "markdown",
   "id": "edb02468-d056-41b7-a544-3844ee5daf63",
   "metadata": {},
   "source": [
    "# Function :"
   ]
  },
  {
   "cell_type": "markdown",
   "id": "29ada814-ac83-4c49-8b79-13eb18801654",
   "metadata": {},
   "source": [
    "## A function is a block of code which only runs when it is called.\n",
    "## The data or parameters or arguments are passed through function and function will return data as output.\n",
    "## The function is defined by using keyword 'def'."
   ]
  },
  {
   "cell_type": "markdown",
   "id": "96dad8f8-7960-4ee2-9da5-8d30299d94e5",
   "metadata": {},
   "source": [
    "## After defining function and name, we must write an argument or condition on which the function will work. Blank function will return error as \"incomplete input\""
   ]
  },
  {
   "cell_type": "code",
   "execution_count": 42,
   "id": "c6d4997a-7d2f-402b-aeba-e24abb82dc1e",
   "metadata": {},
   "outputs": [
    {
     "ename": "SyntaxError",
     "evalue": "incomplete input (2690612609.py, line 2)",
     "output_type": "error",
     "traceback": [
      "\u001b[0;36m  Cell \u001b[0;32mIn[42], line 2\u001b[0;36m\u001b[0m\n\u001b[0;31m    \u001b[0m\n\u001b[0m    ^\u001b[0m\n\u001b[0;31mSyntaxError\u001b[0m\u001b[0;31m:\u001b[0m incomplete input\n"
     ]
    }
   ],
   "source": [
    "def test():\n",
    "    "
   ]
  },
  {
   "cell_type": "code",
   "execution_count": 43,
   "id": "0242e0db-3a7f-43cb-a4f5-c3e5570cf90e",
   "metadata": {},
   "outputs": [],
   "source": [
    "def test():\n",
    "    pass"
   ]
  },
  {
   "cell_type": "code",
   "execution_count": 44,
   "id": "317b1ade-357e-4dc1-8e9e-42a3d190f29f",
   "metadata": {},
   "outputs": [],
   "source": [
    "def test1():\n",
    "    print(\"I am a Data Scientist.\")"
   ]
  },
  {
   "cell_type": "code",
   "execution_count": 45,
   "id": "de20c8fe-73b8-4580-95b5-228bd61a76ac",
   "metadata": {},
   "outputs": [
    {
     "data": {
      "text/plain": [
       "<function __main__.test1()>"
      ]
     },
     "execution_count": 45,
     "metadata": {},
     "output_type": "execute_result"
    }
   ],
   "source": [
    "test1"
   ]
  },
  {
   "cell_type": "markdown",
   "id": "3213df4f-312f-46fa-95db-0a9463b453de",
   "metadata": {},
   "source": [
    "## To call the function, use the name of function followed by the round brackets."
   ]
  },
  {
   "cell_type": "code",
   "execution_count": 46,
   "id": "157a5918-38a3-41c7-8aec-6a4d9607fcc2",
   "metadata": {},
   "outputs": [
    {
     "name": "stdout",
     "output_type": "stream",
     "text": [
      "I am a Data Scientist.\n"
     ]
    }
   ],
   "source": [
    "test1()"
   ]
  },
  {
   "cell_type": "code",
   "execution_count": 47,
   "id": "62b9e3a0-ffb6-4ed2-9cbd-ce6667c8e5d5",
   "metadata": {},
   "outputs": [
    {
     "name": "stdout",
     "output_type": "stream",
     "text": [
      "I am a Data Scientist.\n"
     ]
    },
    {
     "ename": "TypeError",
     "evalue": "unsupported operand type(s) for +: 'NoneType' and 'str'",
     "output_type": "error",
     "traceback": [
      "\u001b[0;31m---------------------------------------------------------------------------\u001b[0m",
      "\u001b[0;31mTypeError\u001b[0m                                 Traceback (most recent call last)",
      "Cell \u001b[0;32mIn[47], line 1\u001b[0m\n\u001b[0;32m----> 1\u001b[0m \u001b[43mtest1\u001b[49m\u001b[43m(\u001b[49m\u001b[43m)\u001b[49m\u001b[43m \u001b[49m\u001b[38;5;241;43m+\u001b[39;49m\u001b[43m \u001b[49m\u001b[38;5;124;43m\"\u001b[39;49m\u001b[38;5;124;43mI am Vinay\u001b[39;49m\u001b[38;5;124;43m\"\u001b[39;49m\n",
      "\u001b[0;31mTypeError\u001b[0m: unsupported operand type(s) for +: 'NoneType' and 'str'"
     ]
    }
   ],
   "source": [
    "test1() + \"I am Vinay\""
   ]
  },
  {
   "cell_type": "markdown",
   "id": "23790658-f202-4173-b854-89e9a929e4e9",
   "metadata": {
    "tags": []
   },
   "source": [
    "### The above error occurs because the print function returns the none type data type. which cannot be concatinated by string."
   ]
  },
  {
   "cell_type": "markdown",
   "id": "7876c853-0417-44e6-9781-c56299dacda1",
   "metadata": {},
   "source": [
    "# Return function:"
   ]
  },
  {
   "cell_type": "markdown",
   "id": "e419070c-7d86-4d35-a129-5b362aa39b08",
   "metadata": {},
   "source": [
    "### The solution to above error is to use \"return\" function.\n",
    "### The main charecteristics of return function is that it returns the actual data type at output for passed data.\n",
    "### Because of this we can perform required operations."
   ]
  },
  {
   "cell_type": "code",
   "execution_count": 48,
   "id": "9491f8b9-a0c8-4468-891d-186437dcae5b",
   "metadata": {},
   "outputs": [],
   "source": [
    "def test2():\n",
    "    return \"My name is Vinay & I am a Data scientist.\""
   ]
  },
  {
   "cell_type": "code",
   "execution_count": 49,
   "id": "7cb454e2-fb81-4e1a-82be-535acd811972",
   "metadata": {},
   "outputs": [
    {
     "data": {
      "text/plain": [
       "'My name is Vinay & I am a Data scientist.Succesfull'"
      ]
     },
     "execution_count": 49,
     "metadata": {},
     "output_type": "execute_result"
    }
   ],
   "source": [
    "test2() + \"Succesfull\""
   ]
  },
  {
   "cell_type": "markdown",
   "id": "9bca44ea-38b3-4980-a9df-7b2eec542e04",
   "metadata": {},
   "source": [
    "## We can pass different data types by using return function."
   ]
  },
  {
   "cell_type": "code",
   "execution_count": 50,
   "id": "e8610e6e-f901-40a5-b7a2-98ee315dc535",
   "metadata": {},
   "outputs": [],
   "source": [
    "def test3():\n",
    "    return 1,2,\"vinay\",12.5"
   ]
  },
  {
   "cell_type": "code",
   "execution_count": 51,
   "id": "8ab635dd-c10b-426e-918e-b84b7203dd26",
   "metadata": {},
   "outputs": [
    {
     "data": {
      "text/plain": [
       "(1, 2, 'vinay', 12.5)"
      ]
     },
     "execution_count": 51,
     "metadata": {},
     "output_type": "execute_result"
    }
   ],
   "source": [
    "test3()"
   ]
  },
  {
   "cell_type": "markdown",
   "id": "d5fed3e2-fbcf-4a71-b550-38b72f4f5aed",
   "metadata": {},
   "source": [
    "## The output is received in the form of tuple."
   ]
  },
  {
   "cell_type": "markdown",
   "id": "b00d79f2-32c8-4c07-b6c1-026ab16482db",
   "metadata": {},
   "source": [
    "## This function data received in form of tuple which can be extracted by : "
   ]
  },
  {
   "cell_type": "code",
   "execution_count": 52,
   "id": "d4eed0f2-3a52-4cd0-beaf-2752c1e2e09f",
   "metadata": {},
   "outputs": [
    {
     "data": {
      "text/plain": [
       "(1, 2, 'vinay', 12.5)"
      ]
     },
     "execution_count": 52,
     "metadata": {},
     "output_type": "execute_result"
    }
   ],
   "source": [
    "test3()"
   ]
  },
  {
   "cell_type": "code",
   "execution_count": 53,
   "id": "a8058583-604c-4931-b82a-4aa766df4091",
   "metadata": {},
   "outputs": [
    {
     "data": {
      "text/plain": [
       "2"
      ]
     },
     "execution_count": 53,
     "metadata": {},
     "output_type": "execute_result"
    }
   ],
   "source": [
    "test3()[1]"
   ]
  },
  {
   "cell_type": "code",
   "execution_count": 54,
   "id": "af205af4-b5dc-45fc-a92c-fa07b5fd6840",
   "metadata": {},
   "outputs": [
    {
     "data": {
      "text/plain": [
       "'vinay'"
      ]
     },
     "execution_count": 54,
     "metadata": {},
     "output_type": "execute_result"
    }
   ],
   "source": [
    "test3()[2]"
   ]
  },
  {
   "cell_type": "markdown",
   "id": "28894c31-7e3b-4ccf-9725-6886ce372fb3",
   "metadata": {},
   "source": [
    "## Seperate variables can also be assigned to function :"
   ]
  },
  {
   "cell_type": "code",
   "execution_count": 55,
   "id": "2e0d6219-45d0-4436-bdc4-b751038eb17a",
   "metadata": {},
   "outputs": [
    {
     "data": {
      "text/plain": [
       "(1, 2, 'vinay', 12.5)"
      ]
     },
     "execution_count": 55,
     "metadata": {},
     "output_type": "execute_result"
    }
   ],
   "source": [
    "test3()"
   ]
  },
  {
   "cell_type": "code",
   "execution_count": 56,
   "id": "d91e2d21-fc7c-4ff3-8b3c-7e7ff22664c0",
   "metadata": {},
   "outputs": [],
   "source": [
    "a,b,c,d = test3()"
   ]
  },
  {
   "cell_type": "code",
   "execution_count": 57,
   "id": "ad9b29f4-7d64-44a3-8dcd-3b8cc383bf83",
   "metadata": {},
   "outputs": [
    {
     "data": {
      "text/plain": [
       "1"
      ]
     },
     "execution_count": 57,
     "metadata": {},
     "output_type": "execute_result"
    }
   ],
   "source": [
    "a"
   ]
  },
  {
   "cell_type": "code",
   "execution_count": 58,
   "id": "728bf5a8-49cd-4609-8b41-e5b08e1440d7",
   "metadata": {},
   "outputs": [
    {
     "data": {
      "text/plain": [
       "2"
      ]
     },
     "execution_count": 58,
     "metadata": {},
     "output_type": "execute_result"
    }
   ],
   "source": [
    "b"
   ]
  },
  {
   "cell_type": "code",
   "execution_count": 59,
   "id": "c7aead42-e162-4cba-803a-24bbe3ee9caa",
   "metadata": {},
   "outputs": [
    {
     "data": {
      "text/plain": [
       "'vinay'"
      ]
     },
     "execution_count": 59,
     "metadata": {},
     "output_type": "execute_result"
    }
   ],
   "source": [
    "c"
   ]
  },
  {
   "cell_type": "code",
   "execution_count": 60,
   "id": "623ca34a-367e-409b-9d01-3733e54eed42",
   "metadata": {},
   "outputs": [
    {
     "data": {
      "text/plain": [
       "12.5"
      ]
     },
     "execution_count": 60,
     "metadata": {},
     "output_type": "execute_result"
    }
   ],
   "source": [
    "d"
   ]
  },
  {
   "cell_type": "markdown",
   "id": "eaa34e8e-94c6-499f-81e1-9615a0621e6e",
   "metadata": {},
   "source": [
    "## We can write logic inside function : "
   ]
  },
  {
   "cell_type": "code",
   "execution_count": 61,
   "id": "86194eba-4ae9-404e-881d-5d96a04d4309",
   "metadata": {},
   "outputs": [],
   "source": [
    "def test4():\n",
    "    a=4*5+6*4\n",
    "    return a"
   ]
  },
  {
   "cell_type": "code",
   "execution_count": 62,
   "id": "ee134b72-591d-40cf-89f7-7c7c32bff961",
   "metadata": {},
   "outputs": [
    {
     "data": {
      "text/plain": [
       "44"
      ]
     },
     "execution_count": 62,
     "metadata": {},
     "output_type": "execute_result"
    }
   ],
   "source": [
    "test4()"
   ]
  },
  {
   "cell_type": "code",
   "execution_count": 63,
   "id": "c785ac13-ede3-4865-9fc9-9b9416f558f2",
   "metadata": {},
   "outputs": [
    {
     "data": {
      "text/plain": [
       "int"
      ]
     },
     "execution_count": 63,
     "metadata": {},
     "output_type": "execute_result"
    }
   ],
   "source": [
    "type(test4())"
   ]
  },
  {
   "cell_type": "markdown",
   "id": "0f371b41-b8bf-4678-b663-54875289be45",
   "metadata": {},
   "source": [
    "## Arguments in function : "
   ]
  },
  {
   "cell_type": "markdown",
   "id": "6c3d5107-ca45-485f-99f0-adc8e6642e59",
   "metadata": {},
   "source": [
    "## Information specified after name of function inside the parenthesis call as arguments. As many arguments can be passed as per the requirement. The only thing is it should be seperated by comma \",\" ."
   ]
  },
  {
   "cell_type": "code",
   "execution_count": 64,
   "id": "2dc3b5c7-ae30-4661-9435-ec7135cdabc4",
   "metadata": {},
   "outputs": [],
   "source": [
    "def test5(a,b):\n",
    "    c = a + b\n",
    "    return c"
   ]
  },
  {
   "cell_type": "code",
   "execution_count": 65,
   "id": "e0905973-613d-4e6a-92d1-427f8565b542",
   "metadata": {},
   "outputs": [
    {
     "data": {
      "text/plain": [
       "13"
      ]
     },
     "execution_count": 65,
     "metadata": {},
     "output_type": "execute_result"
    }
   ],
   "source": [
    "test5(8,5)"
   ]
  },
  {
   "cell_type": "code",
   "execution_count": 66,
   "id": "194bfc60-22ac-45dd-b1c8-d64610b2c500",
   "metadata": {},
   "outputs": [
    {
     "data": {
      "text/plain": [
       "'Vinay Data scientist'"
      ]
     },
     "execution_count": 66,
     "metadata": {},
     "output_type": "execute_result"
    }
   ],
   "source": [
    "test5(\"Vinay \",\"Data scientist\")"
   ]
  },
  {
   "cell_type": "code",
   "execution_count": 67,
   "id": "fd6b2a24-8cb7-4a89-a2bd-4d486d19b182",
   "metadata": {},
   "outputs": [
    {
     "data": {
      "text/plain": [
       "[1, 2, 3, 4, 5, 6, 7, 8]"
      ]
     },
     "execution_count": 67,
     "metadata": {},
     "output_type": "execute_result"
    }
   ],
   "source": [
    "test5([1,2,3,4],[5,6,7,8])"
   ]
  },
  {
   "cell_type": "markdown",
   "id": "0cc31208-8204-4adb-9107-3f7ed182accf",
   "metadata": {},
   "source": [
    "## Create a function which will return a integer value from list."
   ]
  },
  {
   "cell_type": "code",
   "execution_count": 68,
   "id": "2ed533a5-d1eb-44eb-a7cb-c487fb207460",
   "metadata": {},
   "outputs": [],
   "source": [
    "l = [1,2,3,4,5,\"vinay\",12.5,3.26,[1,5,8,7,45]]"
   ]
  },
  {
   "cell_type": "code",
   "execution_count": 69,
   "id": "545d56f8-309b-41b2-9042-6a7df3a69b52",
   "metadata": {},
   "outputs": [],
   "source": [
    "m = (1,2,3,4,5,6,7)"
   ]
  },
  {
   "cell_type": "code",
   "execution_count": 70,
   "id": "698ac83d-5352-4fbd-afa4-d9208833d592",
   "metadata": {},
   "outputs": [],
   "source": [
    "def test6(a) :\n",
    "    n=[]\n",
    "    for i in a:\n",
    "        if type(i)==int or type(i)==float:\n",
    "            n.append(i)\n",
    "    return n\n",
    "            "
   ]
  },
  {
   "cell_type": "code",
   "execution_count": 71,
   "id": "d82d46de-3362-492c-8bf9-49b732bf3406",
   "metadata": {},
   "outputs": [
    {
     "data": {
      "text/plain": [
       "[1, 2, 3, 4, 5, 12.5, 3.26]"
      ]
     },
     "execution_count": 71,
     "metadata": {},
     "output_type": "execute_result"
    }
   ],
   "source": [
    "test6(l)"
   ]
  },
  {
   "cell_type": "code",
   "execution_count": 72,
   "id": "2e87ae01-4849-456d-8ba5-e8844d8a978f",
   "metadata": {},
   "outputs": [],
   "source": [
    "def test7(a):\n",
    "    n=[]\n",
    "    for i in a:\n",
    "        if type(i) == list:\n",
    "            for j in i:\n",
    "                if type(j)==int or type(j)==float:\n",
    "                    n.append(j)\n",
    "        else:\n",
    "            if type(i)==int or type(i)==float:\n",
    "                    n.append(i)\n",
    "    return n"
   ]
  },
  {
   "cell_type": "code",
   "execution_count": 73,
   "id": "acde07bf-a069-4e35-be8c-fd1b4023a359",
   "metadata": {},
   "outputs": [
    {
     "data": {
      "text/plain": [
       "[1, 2, 3, 4, 5, 12.5, 3.26, 1, 5, 8, 7, 45]"
      ]
     },
     "execution_count": 73,
     "metadata": {},
     "output_type": "execute_result"
    }
   ],
   "source": [
    "test7(l)"
   ]
  },
  {
   "cell_type": "code",
   "execution_count": 74,
   "id": "b4525e1b-a511-4b0b-86dc-5a4542a3526f",
   "metadata": {},
   "outputs": [],
   "source": [
    "def test8(a):\n",
    "    if type(a)==list:\n",
    "        n=[]\n",
    "        for i in a:\n",
    "            if type(i)==list:\n",
    "                for j in i:\n",
    "                    if type(j)==int or type(j)==float:\n",
    "                        n.append(j)\n",
    "            else:\n",
    "                if type(i)==int or type(i)==float:\n",
    "                    n.append(i)\n",
    "        return n\n",
    "    else:\n",
    "        return \"Entered type is\" ,type(a) , \"please enter list.\"\n",
    "                        "
   ]
  },
  {
   "cell_type": "code",
   "execution_count": 75,
   "id": "1764cc25-5664-4379-b865-96ede5e592f5",
   "metadata": {},
   "outputs": [
    {
     "data": {
      "text/plain": [
       "[1, 2, 3, 4, 5, 12.5, 3.26, 1, 5, 8, 7, 45]"
      ]
     },
     "execution_count": 75,
     "metadata": {},
     "output_type": "execute_result"
    }
   ],
   "source": [
    "test8(l)"
   ]
  },
  {
   "cell_type": "code",
   "execution_count": 76,
   "id": "d4c70c36-73da-421b-844c-d66c9191b2bb",
   "metadata": {},
   "outputs": [
    {
     "data": {
      "text/plain": [
       "('Entered type is', tuple, 'please enter list.')"
      ]
     },
     "execution_count": 76,
     "metadata": {},
     "output_type": "execute_result"
    }
   ],
   "source": [
    "test8(m)"
   ]
  },
  {
   "cell_type": "markdown",
   "id": "1e9dc261-06e9-4d6a-8001-e406d5568442",
   "metadata": {},
   "source": [
    "## Arguments : "
   ]
  },
  {
   "cell_type": "markdown",
   "id": "a234544d-513e-4030-b659-bef3bb6b1fbf",
   "metadata": {},
   "source": [
    "## Number of arguments : "
   ]
  },
  {
   "cell_type": "markdown",
   "id": "d1915780-79ed-45c2-815a-9fe7dfb068ea",
   "metadata": {},
   "source": [
    "## Function must be called with correct argument. If function expects two arguments, then only two arguments should be passed. Not more not less. Otherwise it will give error."
   ]
  },
  {
   "cell_type": "code",
   "execution_count": 77,
   "id": "a73ac0c0-6671-4013-b527-bbd21df0308b",
   "metadata": {},
   "outputs": [],
   "source": [
    "def test9(a,b):\n",
    "    c=a+b\n",
    "    return c\n",
    "    "
   ]
  },
  {
   "cell_type": "code",
   "execution_count": 78,
   "id": "35017483-058d-43bf-9e0c-6c8e421bc07a",
   "metadata": {},
   "outputs": [
    {
     "ename": "TypeError",
     "evalue": "test9() missing 1 required positional argument: 'b'",
     "output_type": "error",
     "traceback": [
      "\u001b[0;31m---------------------------------------------------------------------------\u001b[0m",
      "\u001b[0;31mTypeError\u001b[0m                                 Traceback (most recent call last)",
      "Cell \u001b[0;32mIn[78], line 1\u001b[0m\n\u001b[0;32m----> 1\u001b[0m \u001b[43mtest9\u001b[49m\u001b[43m(\u001b[49m\u001b[38;5;241;43m5\u001b[39;49m\u001b[43m,\u001b[49m\u001b[43m)\u001b[49m\n",
      "\u001b[0;31mTypeError\u001b[0m: test9() missing 1 required positional argument: 'b'"
     ]
    }
   ],
   "source": [
    "test9(5,)"
   ]
  },
  {
   "cell_type": "code",
   "execution_count": 79,
   "id": "752dfdfa-d2c4-4b90-b8fc-f818bd950460",
   "metadata": {},
   "outputs": [
    {
     "ename": "TypeError",
     "evalue": "test9() takes 2 positional arguments but 3 were given",
     "output_type": "error",
     "traceback": [
      "\u001b[0;31m---------------------------------------------------------------------------\u001b[0m",
      "\u001b[0;31mTypeError\u001b[0m                                 Traceback (most recent call last)",
      "Cell \u001b[0;32mIn[79], line 1\u001b[0m\n\u001b[0;32m----> 1\u001b[0m \u001b[43mtest9\u001b[49m\u001b[43m(\u001b[49m\u001b[38;5;241;43m1\u001b[39;49m\u001b[43m,\u001b[49m\u001b[38;5;241;43m2\u001b[39;49m\u001b[43m,\u001b[49m\u001b[38;5;241;43m3\u001b[39;49m\u001b[43m)\u001b[49m\n",
      "\u001b[0;31mTypeError\u001b[0m: test9() takes 2 positional arguments but 3 were given"
     ]
    }
   ],
   "source": [
    "test9(1,2,3)"
   ]
  },
  {
   "cell_type": "markdown",
   "id": "bee749e4-fcbb-468e-a89a-6051ca7811a6",
   "metadata": {},
   "source": [
    "## Arbitary Arguments :"
   ]
  },
  {
   "cell_type": "markdown",
   "id": "fa80820a-4de7-4d1e-83df-3991cc903d15",
   "metadata": {},
   "source": [
    "## If we are unknown with how many arguments needed to be passed in the function, use * before parameter name in function.\n",
    "## This way the function will return tuple of arguments from which items can be accessed"
   ]
  },
  {
   "cell_type": "code",
   "execution_count": 80,
   "id": "f70ae573-3bdf-43e3-8d6b-3978d54afe21",
   "metadata": {},
   "outputs": [],
   "source": [
    "def test10(*arg):\n",
    "    return arg"
   ]
  },
  {
   "cell_type": "code",
   "execution_count": 81,
   "id": "93e19c38-0972-4f86-9d8a-54eda88ce8f4",
   "metadata": {},
   "outputs": [
    {
     "data": {
      "text/plain": [
       "(1, 2, 3, 4, 5, 6, 7, 8, 9)"
      ]
     },
     "execution_count": 81,
     "metadata": {},
     "output_type": "execute_result"
    }
   ],
   "source": [
    "test10(1,2,3,4,5,6,7,8,9)"
   ]
  },
  {
   "cell_type": "code",
   "execution_count": 82,
   "id": "12854ed1-d73b-4ce7-ac16-4b118bc80aa5",
   "metadata": {},
   "outputs": [
    {
     "data": {
      "text/plain": [
       "(100,)"
      ]
     },
     "execution_count": 82,
     "metadata": {},
     "output_type": "execute_result"
    }
   ],
   "source": [
    "test10(100)"
   ]
  },
  {
   "cell_type": "markdown",
   "id": "d385ab21-6406-4080-ae8b-3c8dedebed97",
   "metadata": {},
   "source": [
    "## Keyword Arguments :"
   ]
  },
  {
   "cell_type": "markdown",
   "id": "1f7b5d26-1083-4671-bff2-f517d8725a75",
   "metadata": {},
   "source": [
    "## To enter keyword argument enter value of argument as 'key = value\" syntax."
   ]
  },
  {
   "cell_type": "code",
   "execution_count": 92,
   "id": "cd7d9f50-2399-4bcc-8985-6640bbaaff98",
   "metadata": {},
   "outputs": [],
   "source": [
    "def test11(name,age,job):\n",
    "    return \"Name of candidate is \" + name \n",
    "\n",
    "    "
   ]
  },
  {
   "cell_type": "code",
   "execution_count": 93,
   "id": "1cd6b1de-df14-4c8d-b395-c2f866c3aad6",
   "metadata": {},
   "outputs": [
    {
     "data": {
      "text/plain": [
       "'Name of candidate is Vinay'"
      ]
     },
     "execution_count": 93,
     "metadata": {},
     "output_type": "execute_result"
    }
   ],
   "source": [
    "test11(name= \"Vinay\" , age = 25, job = \"Data Scientist\")"
   ]
  },
  {
   "cell_type": "markdown",
   "id": "15efc4be-b353-4acc-bda8-0e19fcd7eefd",
   "metadata": {},
   "source": [
    "## Arbitrary Keyword Arguments, **kwargs"
   ]
  },
  {
   "cell_type": "markdown",
   "id": "28e54154-0812-4d4f-845f-d6acb329a105",
   "metadata": {},
   "source": [
    "## If we are unknown with the number of keyword arguments to be passed in the function add two asterisk \"**\" before name of parameter function.\n",
    "## This way the function will return dictonery of arguments, which can be accessed accordingly:\n"
   ]
  },
  {
   "cell_type": "code",
   "execution_count": 94,
   "id": "ce44e0be-9bc6-4857-a85d-b1df5048c8a7",
   "metadata": {},
   "outputs": [],
   "source": [
    "def test12(**kwargs):\n",
    "    return kwargs"
   ]
  },
  {
   "cell_type": "code",
   "execution_count": 95,
   "id": "69c95bc9-7350-42b2-a232-c4e346ee16ea",
   "metadata": {},
   "outputs": [
    {
     "data": {
      "text/plain": [
       "{'a': 1, 'b': 12, 'c': 'Vinay'}"
      ]
     },
     "execution_count": 95,
     "metadata": {},
     "output_type": "execute_result"
    }
   ],
   "source": [
    "test12(a = 1, b = 12, c = \"Vinay\")"
   ]
  },
  {
   "cell_type": "code",
   "execution_count": 97,
   "id": "48b2f58a-c287-4a3b-8143-e2fb78ad6cad",
   "metadata": {},
   "outputs": [
    {
     "data": {
      "text/plain": [
       "dict"
      ]
     },
     "execution_count": 97,
     "metadata": {},
     "output_type": "execute_result"
    }
   ],
   "source": [
    "type(test12())"
   ]
  },
  {
   "cell_type": "markdown",
   "id": "e7d6cfba-1283-4f5d-b767-3f9fd832098e",
   "metadata": {},
   "source": [
    "## We can write different type of programs :\n",
    "## to get the specific type of item from passed arguments\n"
   ]
  },
  {
   "cell_type": "code",
   "execution_count": 104,
   "id": "e42e2c02-64bc-4baa-9e6d-037131950303",
   "metadata": {},
   "outputs": [],
   "source": [
    "def test13(**kwargs):\n",
    "    for i in kwargs.keys():\n",
    "        if type(kwargs[i])==list:\n",
    "            print( i , kwargs[i])\n",
    "        "
   ]
  },
  {
   "cell_type": "code",
   "execution_count": 105,
   "id": "4ee6893b-bd36-4def-884b-d75858364212",
   "metadata": {},
   "outputs": [
    {
     "name": "stdout",
     "output_type": "stream",
     "text": [
      "d ['cruze', 'volvo', 'BMW']\n",
      "a [1, 2, 4, 5]\n"
     ]
    }
   ],
   "source": [
    "test13(  b = \"Vinay\", c = (12,18,25) , d = [\"cruze\",\"volvo\",\"BMW\"],a = [1,2,4,5])"
   ]
  },
  {
   "cell_type": "markdown",
   "id": "9eeb561b-22a2-430f-967b-41255d53f42c",
   "metadata": {},
   "source": [
    "## To enter multiple arguments and keyword arguments at same time:"
   ]
  },
  {
   "cell_type": "code",
   "execution_count": 106,
   "id": "a0da6d25-6e91-4c82-b7db-50e26129daba",
   "metadata": {},
   "outputs": [],
   "source": [
    "def test14(*args , **kwargs):\n",
    "    return args , kwargs"
   ]
  },
  {
   "cell_type": "code",
   "execution_count": 107,
   "id": "6222ebc8-e525-468e-9576-763e5b05652b",
   "metadata": {},
   "outputs": [
    {
     "data": {
      "text/plain": [
       "((1, 2, 3, 4), {'a': 'vinay', 'b': ['BMW', 'Volvo', 'Cruze']})"
      ]
     },
     "execution_count": 107,
     "metadata": {},
     "output_type": "execute_result"
    }
   ],
   "source": [
    "test14(1,2,3,4,a=\"vinay\",b=[\"BMW\",\"Volvo\",\"Cruze\"])"
   ]
  },
  {
   "cell_type": "code",
   "execution_count": null,
   "id": "95e998cc-cea7-4fe2-adcf-a7c7a9c8bca8",
   "metadata": {},
   "outputs": [],
   "source": []
  },
  {
   "cell_type": "code",
   "execution_count": null,
   "id": "f99bb9df-030b-46f9-8e76-6b403373babc",
   "metadata": {},
   "outputs": [],
   "source": []
  },
  {
   "cell_type": "code",
   "execution_count": null,
   "id": "260e4d4d-a31a-4e8b-be75-6997587fd157",
   "metadata": {},
   "outputs": [],
   "source": []
  },
  {
   "cell_type": "code",
   "execution_count": null,
   "id": "74c9e2d5-5867-442f-a2ba-fce37e5a8b91",
   "metadata": {},
   "outputs": [],
   "source": []
  },
  {
   "cell_type": "code",
   "execution_count": null,
   "id": "e6cef7ff-2036-4316-b624-af62acbdf948",
   "metadata": {},
   "outputs": [],
   "source": []
  },
  {
   "cell_type": "code",
   "execution_count": null,
   "id": "2a9d7133-c6b0-4d14-877c-4dd672830ca6",
   "metadata": {},
   "outputs": [],
   "source": []
  },
  {
   "cell_type": "code",
   "execution_count": null,
   "id": "7361aa5d-fca5-4ca6-bcdd-66752f1b2ee5",
   "metadata": {},
   "outputs": [],
   "source": []
  },
  {
   "cell_type": "code",
   "execution_count": null,
   "id": "1e1930cc-6e54-4cb0-9d6f-f2ed76c75a98",
   "metadata": {},
   "outputs": [],
   "source": []
  }
 ],
 "metadata": {
  "kernelspec": {
   "display_name": "Python 3 (ipykernel)",
   "language": "python",
   "name": "python3"
  },
  "language_info": {
   "codemirror_mode": {
    "name": "ipython",
    "version": 3
   },
   "file_extension": ".py",
   "mimetype": "text/x-python",
   "name": "python",
   "nbconvert_exporter": "python",
   "pygments_lexer": "ipython3",
   "version": "3.10.8"
  }
 },
 "nbformat": 4,
 "nbformat_minor": 5
}
