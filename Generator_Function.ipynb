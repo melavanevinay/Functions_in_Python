{
 "cells": [
  {
   "cell_type": "markdown",
   "id": "71057891-8016-4b41-96ef-f60ea863d93a",
   "metadata": {},
   "source": [
    "# Generator Function :"
   ]
  },
  {
   "cell_type": "markdown",
   "id": "dd32cd92-d039-4dad-87f3-99a2c35589af",
   "metadata": {},
   "source": [
    "## In normal function we use \"return\" keyword to return values whereas in generator function we use \"yield\" keyword to execute iterator.\n",
    "## Generator function returns an iterator that creates sequence of results when iterated."
   ]
  },
  {
   "cell_type": "markdown",
   "id": "5cec01be-a3ff-4672-be67-7d9858668ca3",
   "metadata": {},
   "source": [
    "## Generator function is useful when we want to create large no of sequence values but not to store all of them at once."
   ]
  },
  {
   "cell_type": "markdown",
   "id": "c77395a9-d694-4291-b92c-12670648b594",
   "metadata": {},
   "source": [
    "## For Example :"
   ]
  },
  {
   "cell_type": "code",
   "execution_count": 10,
   "id": "7fc0d492-bf54-4dd9-b0f8-4767653d8543",
   "metadata": {},
   "outputs": [],
   "source": [
    "def fun_1(a):\n",
    "    n=[]\n",
    "    for i in a:\n",
    "        if type(i)==int:\n",
    "            n.append(i)\n",
    "    return n"
   ]
  },
  {
   "cell_type": "code",
   "execution_count": 11,
   "id": "967df6d5-9957-4312-ab57-642a4b516cbe",
   "metadata": {},
   "outputs": [],
   "source": [
    "l=[1,2,3,5,6,\"neeta\",\"Vinay\",(4,9,25)]"
   ]
  },
  {
   "cell_type": "code",
   "execution_count": 12,
   "id": "5ecca775-7f09-47e3-a454-0b8ab1d39e01",
   "metadata": {},
   "outputs": [
    {
     "data": {
      "text/plain": [
       "[1, 2, 3, 5, 6]"
      ]
     },
     "execution_count": 12,
     "metadata": {},
     "output_type": "execute_result"
    }
   ],
   "source": [
    "fun_1(l)"
   ]
  },
  {
   "cell_type": "markdown",
   "id": "20f32e5b-b8f6-4d58-8b9e-2ff894f03ee3",
   "metadata": {},
   "source": [
    "## In above code of function each time the iterator will iterate through a provided list \"l\", keep appending values in empty list \"n\". When it will iterate through list and and create \"n\" list. It will return output.\n",
    "## This make sense for small list but when it comes to list which contains million items, unless it iterates through whole list it will not generate output also it will consume lots of time and memory. "
   ]
  },
  {
   "cell_type": "code",
   "execution_count": 13,
   "id": "80164ebf-06e3-48d2-a5c4-16ec5392ee25",
   "metadata": {},
   "outputs": [],
   "source": [
    "def fib(n):\n",
    "    a,b=0,1\n",
    "    for i in range(n):\n",
    "        yield a\n",
    "        a,b=b,a+b\n",
    "        "
   ]
  },
  {
   "cell_type": "code",
   "execution_count": 17,
   "id": "69970a8f-4b97-4a12-8fdc-a51f8cbfba28",
   "metadata": {},
   "outputs": [
    {
     "name": "stdout",
     "output_type": "stream",
     "text": [
      "0\n",
      "1\n",
      "1\n",
      "2\n",
      "3\n",
      "5\n",
      "8\n",
      "13\n",
      "21\n",
      "34\n"
     ]
    }
   ],
   "source": [
    "for i in fib(10):\n",
    "    print(i)\n",
    "    "
   ]
  },
  {
   "cell_type": "markdown",
   "id": "b4d08da3-7241-4b97-8dce-678f36e0ddee",
   "metadata": {},
   "source": [
    "## In above program, fib() generator function is created which is iterated by using for loop."
   ]
  },
  {
   "cell_type": "code",
   "execution_count": null,
   "id": "06732c6c-60b9-41e6-ab06-e5a1411b5abe",
   "metadata": {},
   "outputs": [],
   "source": []
  }
 ],
 "metadata": {
  "kernelspec": {
   "display_name": "Python 3 (ipykernel)",
   "language": "python",
   "name": "python3"
  },
  "language_info": {
   "codemirror_mode": {
    "name": "ipython",
    "version": 3
   },
   "file_extension": ".py",
   "mimetype": "text/x-python",
   "name": "python",
   "nbconvert_exporter": "python",
   "pygments_lexer": "ipython3",
   "version": "3.10.8"
  }
 },
 "nbformat": 4,
 "nbformat_minor": 5
}
